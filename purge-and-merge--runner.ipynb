{
 "cells": [
  {
   "cell_type": "code",
   "execution_count": 3,
   "metadata": {},
   "outputs": [],
   "source": [
    "import os\n",
    "import subprocess\n",
    "import numpy as np"
   ]
  },
  {
   "cell_type": "code",
   "execution_count": 2,
   "metadata": {},
   "outputs": [
    {
     "data": {
      "text/plain": [
       "0"
      ]
     },
     "execution_count": 2,
     "metadata": {},
     "output_type": "execute_result"
    }
   ],
   "source": [
    "dir = 'fillapix-collection/'\n",
    "files = os.listdir(dir); \n",
    "\n",
    "nums = [int(i.split('-')[-1].split('.')[0]) for i in files]\n",
    "argsrt = np.argsort(nums)\n",
    "files = [files[i] for i in argsrt]\n",
    "\n",
    "f = open(\"output/fillapix_purgeandmerge.txt\", \"w\")\n",
    "subprocess.call([\"bin-purge-and-merge/eg_ksat\"]+\n",
    "                ['fillapix']+\n",
    "                [os.path.abspath(dir+file) for file in files], stdout=f)"
   ]
  },
  {
   "cell_type": "code",
   "execution_count": 3,
   "metadata": {},
   "outputs": [
    {
     "data": {
      "text/plain": [
       "0"
      ]
     },
     "execution_count": 3,
     "metadata": {},
     "output_type": "execute_result"
    }
   ],
   "source": [
    "dir = 'kakuro-collection/'\n",
    "files = os.listdir(dir); \n",
    "\n",
    "nums = [int(i.split('-')[-1].split('.')[0]) for i in files]\n",
    "argsrt = np.argsort(nums)\n",
    "files = [files[i] for i in argsrt]\n",
    "\n",
    "f = open(\"output/kakuro_purgeandmerge.txt\", \"w\")\n",
    "subprocess.call([\"bin-purge-and-merge/eg_ksat\"]+\n",
    "                ['kakuro']+\n",
    "                [os.path.abspath(dir+file) for file in files], stdout=f)"
   ]
  },
  {
   "cell_type": "code",
   "execution_count": null,
   "metadata": {},
   "outputs": [
    {
     "name": "stdout",
     "output_type": "stream",
     "text": [
      "killersudoku-krazydad-collection--emdw\n",
      "killersudoku-krazydad-collection--emdw/diff03\n",
      "killersudoku-krazydad-collection--emdw/diff04\n",
      "killersudoku-krazydad-collection--emdw/diff05\n",
      "killersudoku-krazydad-collection--emdw/diff02\n",
      "killersudoku-krazydad-collection--emdw/diff01\n"
     ]
    }
   ],
   "source": [
    "import os\n",
    "import killersudoku\n",
    "import subprocess\n",
    "\n",
    "\"\"\"\n",
    "for dir in ['killersudoku-dailykillersudoku-collection',\n",
    "            'killersudoku-krazydad-collection']:\n",
    "    diremdw = dir+'--emdw'\n",
    "    \n",
    "    for pth, _, files in os.walk(dir):\n",
    "        for fname in files:\n",
    "            fpath = os.path.join(pth, fname)\n",
    "            outpath = fpath.replace(dir, diremdw)\n",
    "            \n",
    "            os.makedirs(os.path.split(outpath)[0], exist_ok=True)\n",
    "            \n",
    "            pzzl = killersudoku.load_killersudoku(fpath)\n",
    "            with open(outpath, 'w') as f:\n",
    "                for sm, line in pzzl:\n",
    "                    f.write(str(sm)+' ')\n",
    "                    for i,j in line:\n",
    "                        f.write(str(i)+str(j)+' ')\n",
    "                    f.write('\\n')\n",
    "\"\"\"\n",
    "\n",
    "for dir in ['killersudoku-krazydad-collection--emdw']:\n",
    "    \n",
    "    all_diffs = []\n",
    "    for pth, _, files in os.walk(dir):\n",
    "        print(pth)\n",
    "        allfiles = []\n",
    "        \n",
    "        for fname in files:\n",
    "            allfiles.append(os.path.join(pth, fname))\n",
    "            \n",
    "        allfiles.sort()\n",
    "        \n",
    "        if len(allfiles):\n",
    "            all_diffs.append(allfiles)\n",
    "            \n",
    "    all_diffs.sort()\n",
    "    \n",
    "    #slice in 1000 puzzle pieces\n",
    "    do_continue = True\n",
    "    j=0\n",
    "    set_tmp = set()\n",
    "    for jj in range(100000):\n",
    "        \n",
    "        tmp_list = []\n",
    "        for j in range(jj*250, jj*250+250):\n",
    "            for i in range(len(all_diffs)):\n",
    "                try:\n",
    "                    tmp_list.append(all_diffs[i][j])\n",
    "                except:\n",
    "                    do_continue = False\n",
    "            \n",
    "\n",
    "        f = open(\"output/\"+dir, \"a\")\n",
    "        subprocess.call([\"bin-purge-and-merge/eg_ksat\"]+\n",
    "                        ['sumsudoku']+\n",
    "                        tmp_list, stdout=f)\n",
    "        \n",
    "        \n",
    "        if not do_continue:\n",
    "            break\n",
    "\n"
   ]
  },
  {
   "cell_type": "code",
   "execution_count": null,
   "metadata": {},
   "outputs": [],
   "source": [
    "dir = 'calcudoku-collection--emdw/'\n",
    "files = os.listdir(dir); \n",
    "\n",
    "nums = [int(i.split('-')[-1].split('.')[0]) for i in files]\n",
    "argsrt = np.argsort(nums)\n",
    "files = [files[i] for i in argsrt]\n",
    "\n",
    "f = open(\"output/calcudoku_purgeandmerge.txt\", \"w\")\n",
    "subprocess.call([\"bin-purge-and-merge/eg_ksat\"]+\n",
    "                ['calcudoku']+\n",
    "                [os.path.abspath(dir+file) for file in files], stdout=f)"
   ]
  },
  {
   "cell_type": "code",
   "execution_count": null,
   "metadata": {},
   "outputs": [],
   "source": [
    "####################################\n",
    "# sudoku sterten\n",
    "####################################\n",
    "puzzles = [i for i in open('sudoku-collection/sudokus-sterten.txt').read().split('\\n') if i.strip()!='' and '#' not in i]\n",
    "with open(\"output/sudoku-sterten_purgeandmerge.txt\", \"w\") as f: pass\n",
    "\n",
    "import tempfile\n",
    "tempfile = tempfile.gettempdir()+'/'+'sudoku.sdk'\n",
    "\n",
    "with open(\"output/sudoku-sterten_purgeandmerge.txt\", \"a\") as f:\n",
    "    for puzzle in puzzles:\n",
    "        with open(tempfile, 'w') as ftmp: ftmp.write(puzzle)\n",
    "        subprocess.call([\"bin-purge-and-merge/eg_ksat\"]+\n",
    "                        ['sudoku']+\n",
    "                        [tempfile], stdout=f)\n",
    "\n",
    "        \n",
    "####################################\n",
    "# sudoku champagne\n",
    "####################################\n",
    "puzzles = [i.split(';')[0].replace('.','0') for i in open('sudoku-collection/sudokus-champagne.txt').read().split('\\n') if i.strip()!='' and '#' not in i]\n",
    "with open(\"output/sudoku-champagne_purgeandmerge.txt\", \"w\") as f: pass\n",
    "\n",
    "\n",
    "import tempfile\n",
    "tempfile = tempfile.gettempdir()+'/'+'sudoku.sdk'\n",
    "\n",
    "with open(\"output/sudoku-champagne_purgeandmerge.txt\", \"a\") as f:\n",
    "    for puzzle in puzzles:\n",
    "        with open(tempfile, 'w') as ftmp: ftmp.write(puzzle)\n",
    "        subprocess.call([\"bin-purge-and-merge/eg_ksat\"]+\n",
    "                        ['sudoku']+\n",
    "                        [tempfile], stdout=f)"
   ]
  },
  {
   "cell_type": "code",
   "execution_count": null,
   "metadata": {},
   "outputs": [],
   "source": []
  }
 ],
 "metadata": {
  "kernelspec": {
   "display_name": "Python 3",
   "language": "python",
   "name": "python3"
  },
  "language_info": {
   "codemirror_mode": {
    "name": "ipython",
    "version": 3
   },
   "file_extension": ".py",
   "mimetype": "text/x-python",
   "name": "python",
   "nbconvert_exporter": "python",
   "pygments_lexer": "ipython3",
   "version": "3.7.3"
  }
 },
 "nbformat": 4,
 "nbformat_minor": 4
}
