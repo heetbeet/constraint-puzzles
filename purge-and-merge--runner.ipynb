{
 "cells": [
  {
   "cell_type": "code",
   "execution_count": 3,
   "metadata": {},
   "outputs": [],
   "source": [
    "import os\n",
    "import subprocess\n",
    "import numpy as np"
   ]
  },
  {
   "cell_type": "code",
   "execution_count": 2,
   "metadata": {},
   "outputs": [
    {
     "data": {
      "text/plain": [
       "0"
      ]
     },
     "execution_count": 2,
     "metadata": {},
     "output_type": "execute_result"
    }
   ],
   "source": [
    "####################################\n",
    "# Fillapix\n",
    "####################################\n",
    "\n",
    "dir = 'fillapix-collection/'\n",
    "files = os.listdir(dir); \n",
    "\n",
    "nums = [int(i.split('-')[-1].split('.')[0]) for i in files]\n",
    "argsrt = np.argsort(nums)\n",
    "files = [files[i] for i in argsrt]\n",
    "\n",
    "f = open(\"output/fillapix_purgeandmerge.txt\", \"w\")\n",
    "subprocess.call([\"bin-purge-and-merge/run_purge_and_merge\"]+\n",
    "                ['fillapix']+\n",
    "                [os.path.abspath(dir+file) for file in files], stdout=f)"
   ]
  },
  {
   "cell_type": "code",
   "execution_count": 3,
   "metadata": {},
   "outputs": [
    {
     "data": {
      "text/plain": [
       "0"
      ]
     },
     "execution_count": 3,
     "metadata": {},
     "output_type": "execute_result"
    }
   ],
   "source": [
    "####################################\n",
    "# Kakuro\n",
    "####################################\n",
    "\n",
    "dir = 'kakuro-collection/'\n",
    "files = os.listdir(dir); \n",
    "\n",
    "nums = [int(i.split('-')[-1].split('.')[0]) for i in files]\n",
    "argsrt = np.argsort(nums)\n",
    "files = [files[i] for i in argsrt]\n",
    "\n",
    "f = open(\"output/kakuro_purgeandmerge.txt\", \"w\")\n",
    "subprocess.call([\"bin-purge-and-merge/run_purge_and_merge\"]+\n",
    "                ['kakuro']+\n",
    "                [os.path.abspath(dir+file) for file in files], stdout=f)"
   ]
  },
  {
   "cell_type": "code",
   "execution_count": 18,
   "metadata": {},
   "outputs": [
    {
     "name": "stdout",
     "output_type": "stream",
     "text": [
      "We start at: killersudoku-krazydad-collection--emdw/diff01/vol03-book041-puzzle02.txt\n"
     ]
    }
   ],
   "source": [
    "####################################\n",
    "# Sumsudoku, one of each diff, continues where last left off\n",
    "# Geez, way too much code! \n",
    "####################################\n",
    "import os\n",
    "import sys\n",
    "import killersudoku\n",
    "import subprocess\n",
    "\n",
    "dir = 'killersudoku-krazydad-collection--emdw'\n",
    "outdir = \"output/\"+dir\n",
    "\n",
    "try:\n",
    "    with open(outdir) as f:\n",
    "        for i in range(sys.maxsize):\n",
    "            line = f.readline()\n",
    "            if not line: \n",
    "                break\n",
    "\n",
    "            if 'Filename' in line:\n",
    "                begin_at = line.split(' ')[-1].strip()\n",
    "                begin_at\n",
    "except FileNotFoundError:\n",
    "    begin_at = None\n",
    "\n",
    "all_diffs = []\n",
    "for pth, _, files in os.walk(dir):\n",
    "    allfiles = []\n",
    "\n",
    "    for fname in files:\n",
    "        allfiles.append(os.path.join(pth, fname))\n",
    "\n",
    "    allfiles.sort()\n",
    "\n",
    "    if len(allfiles):\n",
    "        all_diffs.append(allfiles)\n",
    "\n",
    "all_diffs.sort()\n",
    "    \n",
    "print(\"We start at:\", begin_at)\n",
    "found_yet = True if not begin_at else False\n",
    "\n",
    "#slice in 1000 puzzle pieces\n",
    "do_continue = True\n",
    "j=0\n",
    "set_tmp = set()\n",
    "for jj in range(100000):\n",
    "\n",
    "    tmp_list = []\n",
    "    for j in range(jj*250, jj*250+250):\n",
    "        for i in range(len(all_diffs)):\n",
    "            try:\n",
    "                if not found_yet and all_diffs[i][j] == begin_at:\n",
    "                    found_yet = True\n",
    "\n",
    "                if found_yet:\n",
    "                    tmp_list.append(all_diffs[i][j])\n",
    "                \n",
    "            except IndexError:\n",
    "                do_continue = False\n",
    "     \n",
    "    if tmp_list:\n",
    "        f = open(\"output/\"+dir, \"a\")\n",
    "        subprocess.call([\"bin-purge-and-merge/run_purge_and_merge\"]+\n",
    "                        ['sumsudoku']+\n",
    "                        tmp_list, stdout=f)\n",
    "\n",
    "    \n",
    "    if not do_continue: break\n",
    "    "
   ]
  },
  {
   "cell_type": "code",
   "execution_count": null,
   "metadata": {},
   "outputs": [],
   "source": [
    "dir = 'calcudoku-collection--emdw/'\n",
    "files = os.listdir(dir); \n",
    "\n",
    "nums = [int(i.split('-')[-1].split('.')[0]) for i in files]\n",
    "argsrt = np.argsort(nums)\n",
    "files = [files[i] for i in argsrt]\n",
    "\n",
    "f = open(\"output/calcudoku_purgeandmerge.txt\", \"w\")\n",
    "subprocess.call([\"bin-purge-and-merge/run_purge_and_merge\"]+\n",
    "                ['calcudoku']+\n",
    "                [os.path.abspath(dir+file) for file in files], stdout=f)"
   ]
  },
  {
   "cell_type": "code",
   "execution_count": null,
   "metadata": {},
   "outputs": [],
   "source": [
    "####################################\n",
    "# sudoku sterten\n",
    "####################################\n",
    "puzzles = [i for i in open('sudoku-collection/sudokus-sterten.txt').read().split('\\n') if i.strip()!='' and '#' not in i]\n",
    "with open(\"output/sudoku-sterten_purgeandmerge.txt\", \"w\") as f: pass\n",
    "\n",
    "import tempfile\n",
    "tempfile = tempfile.gettempdir()+'/'+'sudoku.sdk'\n",
    "\n",
    "with open(\"output/sudoku-sterten_purgeandmerge.txt\", \"a\") as f:\n",
    "    for puzzle in puzzles:\n",
    "        with open(tempfile, 'w') as ftmp: ftmp.write(puzzle)\n",
    "        subprocess.call([\"bin-purge-and-merge/run_purge_and_merge\"]+\n",
    "                        ['sudoku']+\n",
    "                        [tempfile], stdout=f)\n",
    "\n",
    "        \n",
    "####################################\n",
    "# sudoku champagne\n",
    "####################################\n",
    "puzzles = [i.split(';')[0].replace('.','0') for i in open('sudoku-collection/sudokus-champagne.txt').read().split('\\n') if i.strip()!='' and '#' not in i]\n",
    "with open(\"output/sudoku-champagne_purgeandmerge.txt\", \"w\") as f: pass\n",
    "\n",
    "\n",
    "import tempfile\n",
    "tempfile = tempfile.gettempdir()+'/'+'sudoku.sdk'\n",
    "\n",
    "with open(\"output/sudoku-champagne_purgeandmerge.txt\", \"a\") as f:\n",
    "    for puzzle in puzzles:\n",
    "        with open(tempfile, 'w') as ftmp: ftmp.write(puzzle)\n",
    "        subprocess.call([\"bin-purge-and-merge/run_purge_and_merge\"]+\n",
    "                        ['sudoku']+\n",
    "                        [tempfile], stdout=f)"
   ]
  },
  {
   "cell_type": "code",
   "execution_count": null,
   "metadata": {},
   "outputs": [],
   "source": []
  }
 ],
 "metadata": {
  "kernelspec": {
   "display_name": "Python 3",
   "language": "python",
   "name": "python3"
  },
  "language_info": {
   "codemirror_mode": {
    "name": "ipython",
    "version": 3
   },
   "file_extension": ".py",
   "mimetype": "text/x-python",
   "name": "python",
   "nbconvert_exporter": "python",
   "pygments_lexer": "ipython3",
   "version": "3.7.3"
  }
 },
 "nbformat": 4,
 "nbformat_minor": 4
}
