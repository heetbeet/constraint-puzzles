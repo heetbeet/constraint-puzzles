{
 "cells": [
  {
   "cell_type": "code",
   "execution_count": null,
   "metadata": {},
   "outputs": [],
   "source": [
    "import urllib\n",
    "import urllib.request\n",
    "import os\n",
    "\n",
    "if not os.path.exists('KRProject_1.zip'):\n",
    "    !wget https://raw.githubusercontent.com/UvA-KR16/KilerSudoku/master/data/KRProject_1.zip\n",
    "\n",
    "import zipfile\n",
    "if not os.path.exists('KRProject_1'):\n",
    "    dir_name = 'KRProject_1'\n",
    "    os.mkdir(dir_name)\n",
    "    zip_handler = zipfile.ZipFile('KRProject_1.zip', \"r\")\n",
    "    zip_handler.extractall(dir_name)"
   ]
  },
  {
   "cell_type": "code",
   "execution_count": null,
   "metadata": {
    "scrolled": false
   },
   "outputs": [],
   "source": [
    "for dir, dirs, files in os.walk('KRProject_1/'):\n",
    "    for file in files:\n",
    "        if not file.endswith('.killer'): continue\n",
    "            \n",
    "        cells = {}\n",
    "        for line in open(dir+'/'+file).read().split('\\n'):\n",
    "            if line.strip() == \"\": continue\n",
    "            sm = int(line.split('=')[0].strip())\n",
    "            vals = [(int(j.split(',')[0].strip()), int(j.split(',')[1].strip())) for j in [i.split(')')[0] for i in line.split('(')[1:]]]\n",
    "            \n",
    "            cells[sm, vals[0]] = vals\n",
    "\n",
    "        weburl = 'https://github.com/UvA-KR16/KilerSudoku/tree/master/data/'+os.path.split(dir)[-1]+'/'+file\n",
    "        txt = '#source: '+weburl+'\\n'\n",
    "        txt += '+'+('---+'*9)+'\\n'\n",
    "        for i in range(0,9):\n",
    "            txt += '|'\n",
    "            markers = []\n",
    "            for j in range(0,9):\n",
    "                isin = False\n",
    "                for (sm, fval), vals in cells.items():\n",
    "                    if (i,j) in vals:\n",
    "                        break\n",
    "                    \n",
    "                txt += (str(sm)+'   ')[:3] if fval == (i,j) else '   '\n",
    "                isthick = (j+1)%3==0 and j<8 \n",
    "                txt += ('|║')[isthick] if (i,j+1) not in vals else '  '[isthick]\n",
    "                markers.append(not (i+1,j) in vals)\n",
    "            txt += '\\n'\n",
    "            isthick = (i+1)%3==0 and i<8\n",
    "            txt += '+' + '+'.join(('---','===')[isthick] if i else ('   ','   ')[isthick] for i in markers) + '+\\n'\n",
    "\n",
    "        filename = '../killersudoku-collection/'+os.path.split(dir)[-1]+'/'+file[:-7]+'.txt'\n",
    "        os.makedirs(os.path.dirname(filename), exist_ok=True)\n",
    "        open(filename, 'w').write(txt)\n",
    "        "
   ]
  },
  {
   "cell_type": "code",
   "execution_count": null,
   "metadata": {},
   "outputs": [],
   "source": [
    "#--------------------------------------------------\n",
    "# convert to emdw readables for emdw side of things\n",
    "#--------------------------------------------------\n",
    "\n",
    "import sys\n",
    "import os\n",
    "if not '..' in sys.path: sys.path.append(\"..\")\n",
    "import killersudoku\n",
    "\n",
    "dirs = set()\n",
    "for dir, _, files in os.walk('../killersudoku-collection/'):\n",
    "    for file in files:\n",
    "        file = dir+'/'+file\n",
    "        cages = killersudoku.load_killersudoku(file)\n",
    "        fileout = file.replace('collection', 'collection--emdw').replace('.txt', '.ksd')\n",
    "        os.makedirs(os.path.dirname(fileout), exist_ok=True)\n",
    "        \n",
    "        str_out = ''\n",
    "        for cage in cages:\n",
    "            str_out += str(cage[0]) +' ' + ' '.join( str(i)+str(j) for i,j in cage[1]) + '\\n'\n",
    "\n",
    "        open(fileout, 'w').write(\n",
    "            str_out\n",
    "        )"
   ]
  },
  {
   "cell_type": "code",
   "execution_count": null,
   "metadata": {},
   "outputs": [],
   "source": []
  }
 ],
 "metadata": {
  "kernelspec": {
   "display_name": "Python 3",
   "language": "python",
   "name": "python3"
  },
  "language_info": {
   "codemirror_mode": {
    "name": "ipython",
    "version": 3
   },
   "file_extension": ".py",
   "mimetype": "text/x-python",
   "name": "python",
   "nbconvert_exporter": "python",
   "pygments_lexer": "ipython3",
   "version": "3.6.6"
  }
 },
 "nbformat": 4,
 "nbformat_minor": 2
}
