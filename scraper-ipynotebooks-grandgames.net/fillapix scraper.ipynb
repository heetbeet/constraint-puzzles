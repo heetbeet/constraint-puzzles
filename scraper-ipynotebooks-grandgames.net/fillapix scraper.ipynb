{
 "cells": [
  {
   "cell_type": "code",
   "execution_count": null,
   "metadata": {},
   "outputs": [],
   "source": [
    "import urllib\n",
    "import urllib.request\n",
    "\n",
    "def get_page(url):\n",
    "    return urllib.request.urlopen(url).read().decode(\"iso-8859-1\")\n",
    "\n",
    "def is_int(txt):\n",
    "    try:\n",
    "        int(txt)\n",
    "        return True\n",
    "    except:\n",
    "        return False"
   ]
  },
  {
   "cell_type": "code",
   "execution_count": null,
   "metadata": {
    "scrolled": false
   },
   "outputs": [],
   "source": [
    "last_page = [i.split('\"')[0] for i in get_page(\"https://en.grandgames.net/mosaic/\"\n",
    "                                              ).replace(\"'\",'\"').split('en.grandgames.net/mosaic/')]\n",
    "last_page = [int(i) for i in last_page if is_int(i)]\n",
    "last_page.sort()\n",
    "last_page = last_page[-1]\n",
    "\n",
    "nums = set()\n",
    "for i in range(1, last_page+1):\n",
    "    url = 'https://en.grandgames.net/mosaic/%d'%i\n",
    "    print(url)\n",
    "    html = get_page(url)\n",
    "    for i in html.split('/mosaic/id')[1:]:\n",
    "        print(' ',i.split('\"')[0].split(\"'\")[0], end='')\n",
    "        nums.add(i.split('\"')[0].split(\"'\")[0])\n",
    "        \n",
    "nums = [int(i) for i in nums]\n",
    "nums.sort()\n",
    "with open('nums.txt','w') as f:\n",
    "    f.write('\\n'.join([str(i) for i in nums]))"
   ]
  },
  {
   "cell_type": "code",
   "execution_count": null,
   "metadata": {
    "scrolled": false
   },
   "outputs": [],
   "source": [
    "import time\n",
    "nums = [int(i) for i in open('nums.txt').read().split()]\n",
    "while(True):\n",
    "    try:\n",
    "        for i in nums:\n",
    "            fname = '../fillapix-collection/fillapix-grandgames.net-%d.txt'%i\n",
    "            try:\n",
    "                fin = open(fname).read()\n",
    "            except:\n",
    "                pass\n",
    "            else:\n",
    "                if len(fin) >= 100:\n",
    "                    continue\n",
    "                \n",
    "            print(fname)\n",
    "            with open(fname, 'w') as f:\n",
    "                url = 'https://en.grandgames.net/mosaic/id%d'%i\n",
    "                f.write('# source: '+url+'\\n')\n",
    "                html = get_page(url)\n",
    "                for i in html.split('\\n'):\n",
    "                    if 'mosaic_tbl' in i:\n",
    "                        for i in i.split(\"<tr>\")[1:]:\n",
    "                            line = [i.split('</td>')[0] for i in i.split('<td>')]\n",
    "                            #blabla[1:] cause for some reason first \"entry\" is empty in error\n",
    "                            f.write((''.join([i if i else '.' for i in line]))[1:]+'\\n')\n",
    "        break\n",
    "    except:\n",
    "        print('timeout...')\n",
    "        time.sleep(30)"
   ]
  },
  {
   "cell_type": "code",
   "execution_count": null,
   "metadata": {},
   "outputs": [],
   "source": []
  }
 ],
 "metadata": {
  "kernelspec": {
   "display_name": "Python 3",
   "language": "python",
   "name": "python3"
  },
  "language_info": {
   "codemirror_mode": {
    "name": "ipython",
    "version": 3
   },
   "file_extension": ".py",
   "mimetype": "text/x-python",
   "name": "python",
   "nbconvert_exporter": "python",
   "pygments_lexer": "ipython3",
   "version": "3.6.6"
  }
 },
 "nbformat": 4,
 "nbformat_minor": 2
}
